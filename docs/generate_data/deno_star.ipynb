{
 "cells": [
  {
   "cell_type": "code",
   "execution_count": 2,
   "metadata": {},
   "outputs": [
    {
     "name": "stdout",
     "output_type": "stream",
     "text": [
      "File saved as 'deno_star_elemens.csv'\n"
     ]
    }
   ],
   "source": [
    "import polars as pl\n",
    "\n",
    "# Load dino dataset\n",
    "url_dino = 'https://raw.githubusercontent.com/kolibril13/ipydrop/refs/heads/main/dino.csv'\n",
    "df_dino = pl.read_csv(url_dino)\n",
    "dino_data = df_dino.with_columns(\n",
    "    pl.col(\"x\").round(4).alias(\"Dino_X\"),\n",
    "    pl.col(\"y\").round(4).alias(\"Dino_Y\")\n",
    ").select([\"Dino_X\", \"Dino_Y\"])\n",
    "\n",
    "# Load star dataset\n",
    "url_star = 'https://raw.githubusercontent.com/kolibril13/ipydrop/refs/heads/main/star.csv'\n",
    "df_star = pl.read_csv(url_star)\n",
    "star_data = df_star.with_columns(\n",
    "    pl.col(\"x\").round(4).alias(\"Star_X\"),\n",
    "    pl.col(\"y\").round(4).alias(\"Star_Y\")\n",
    ").select([\"Star_X\", \"Star_Y\"])\n",
    "\n",
    "# Combine into one DataFrame\n",
    "combined_df = pl.concat([dino_data, star_data], how=\"horizontal\")\n",
    "\n",
    "# Save to CSV\n",
    "combined_df.write_csv(\"deno_star_elemens.csv\")\n",
    "print(\"File saved as 'deno_star_elemens.csv'\")"
   ]
  },
  {
   "cell_type": "markdown",
   "metadata": {},
   "source": [
    "# parquet, with vector entries in cells"
   ]
  },
  {
   "cell_type": "code",
   "execution_count": 7,
   "metadata": {},
   "outputs": [
    {
     "name": "stdout",
     "output_type": "stream",
     "text": [
      "File saved as 'dino_star_vectors.parquet'\n"
     ]
    }
   ],
   "source": [
    "import polars as pl\n",
    "\n",
    "url_dino = \"https://raw.githubusercontent.com/kolibril13/ipydrop/refs/heads/main/dino.csv\"\n",
    "url_star = \"https://raw.githubusercontent.com/kolibril13/ipydrop/refs/heads/main/star.csv\"\n",
    "\n",
    "(\n",
    "    pl.concat([\n",
    "        pl.read_csv(url_dino).select(\n",
    "            pl.col(\"x\").round(4).alias(\"dino_x\"),\n",
    "            pl.col(\"y\").round(4).alias(\"dino_y\")\n",
    "        ),\n",
    "        pl.read_csv(url_star).select(\n",
    "            pl.col(\"x\").round(4).alias(\"star_x\"),\n",
    "            pl.col(\"y\").round(4).alias(\"star_y\")\n",
    "        ),\n",
    "    ], how=\"horizontal\")\n",
    "    .with_columns(\n",
    "        Dino = pl.concat_list([\"dino_x\", \"dino_y\"]),\n",
    "        Star = pl.concat_list([\"star_x\", \"star_y\"])\n",
    "    )\n",
    "    .select([\"Dino\", \"Star\"])\n",
    "    .write_parquet(\"dino_star_vectors.parquet\")\n",
    ")\n",
    "\n",
    "print(\"File saved as 'dino_star_vectors.parquet'\")"
   ]
  },
  {
   "cell_type": "markdown",
   "metadata": {},
   "source": [
    "# json, but unwanted column orientation"
   ]
  },
  {
   "cell_type": "code",
   "execution_count": 5,
   "metadata": {},
   "outputs": [
    {
     "name": "stdout",
     "output_type": "stream",
     "text": [
      "File saved as 'dino_star_vectors.json'\n"
     ]
    }
   ],
   "source": [
    "import polars as pl\n",
    "\n",
    "url_dino = \"https://raw.githubusercontent.com/kolibril13/ipydrop/refs/heads/main/dino.csv\"\n",
    "url_star = \"https://raw.githubusercontent.com/kolibril13/ipydrop/refs/heads/main/star.csv\"\n",
    "\n",
    "(\n",
    "    pl.concat([\n",
    "        pl.read_csv(url_dino).select(\n",
    "            pl.col(\"x\").round(4).alias(\"dino_x\"),\n",
    "            pl.col(\"y\").round(4).alias(\"dino_y\")\n",
    "        ),\n",
    "        pl.read_csv(url_star).select(\n",
    "            pl.col(\"x\").round(4).alias(\"star_x\"),\n",
    "            pl.col(\"y\").round(4).alias(\"star_y\")\n",
    "        ),\n",
    "    ], how=\"horizontal\")\n",
    "    .with_columns(\n",
    "        Dino = pl.concat_list([\"dino_x\", \"dino_y\"]),\n",
    "        Star = pl.concat_list([\"star_x\", \"star_y\"])\n",
    "    )\n",
    "    .select([\"Dino\", \"Star\"])\n",
    "    .write_json(\"dino_star_vectors.json\")\n",
    ")\n",
    "\n",
    "print(\"File saved as 'dino_star_vectors.json'\")"
   ]
  },
  {
   "cell_type": "markdown",
   "metadata": {},
   "source": [
    "# json, good column names"
   ]
  },
  {
   "cell_type": "code",
   "execution_count": 3,
   "metadata": {},
   "outputs": [
    {
     "name": "stdout",
     "output_type": "stream",
     "text": [
      "File saved as 'dino_star_vectors.json'\n"
     ]
    }
   ],
   "source": [
    "import polars as pl\n",
    "import json\n",
    "\n",
    "url_dino = \"https://raw.githubusercontent.com/kolibril13/ipydrop/refs/heads/main/dino.csv\"\n",
    "url_star = \"https://raw.githubusercontent.com/kolibril13/ipydrop/refs/heads/main/star.csv\"\n",
    "\n",
    "df = (\n",
    "    pl.concat([\n",
    "        pl.read_csv(url_dino).select(\n",
    "            pl.col(\"x\").round(4).alias(\"dino_x\"),\n",
    "            pl.col(\"y\").round(4).alias(\"dino_y\")\n",
    "        ),\n",
    "        pl.read_csv(url_star).select(\n",
    "            pl.col(\"x\").round(4).alias(\"star_x\"),\n",
    "            pl.col(\"y\").round(4).alias(\"star_y\")\n",
    "        ),\n",
    "    ], how=\"horizontal\")\n",
    "    .with_columns(\n",
    "        Dino = pl.concat_list([\"dino_x\", \"dino_y\"]),\n",
    "        Star = pl.concat_list([\"star_x\", \"star_y\"])\n",
    "    )\n",
    "    .select([\"Dino\", \"Star\"])\n",
    ")\n",
    "\n",
    "# Convert the DataFrame to a dictionary of lists\n",
    "data_dict = df.to_dict(as_series=False)\n",
    "\n",
    "# data_dict now looks like:\n",
    "# {\n",
    "#    \"Dino\": [[55.3846, 97.1795], [51.5385, 96.0256], ...],\n",
    "#    \"Star\": [[58.2136, 91.8819], [58.1961, 92.215], ...]\n",
    "# }\n",
    "\n",
    "# Write the column-oriented data to JSON\n",
    "with open(\"dino_star_vectors.json\", \"w\") as f:\n",
    "    json.dump(data_dict, f, indent=2)\n",
    "\n",
    "print(\"File saved as 'dino_star_vectors.json'\")"
   ]
  },
  {
   "cell_type": "code",
   "execution_count": 17,
   "metadata": {},
   "outputs": [
    {
     "data": {
      "text/html": [
       "<div><style>\n",
       ".dataframe > thead > tr,\n",
       ".dataframe > tbody > tr {\n",
       "  text-align: right;\n",
       "  white-space: pre-wrap;\n",
       "}\n",
       "</style>\n",
       "<small>shape: (142, 2)</small><table border=\"1\" class=\"dataframe\"><thead><tr><th>Dino</th><th>Star</th></tr><tr><td>list[f64]</td><td>list[f64]</td></tr></thead><tbody><tr><td>[55.3846, 97.1795]</td><td>[58.2136, 91.8819]</td></tr><tr><td>[51.5385, 96.0256]</td><td>[58.1961, 92.215]</td></tr><tr><td>[46.1538, 94.4872]</td><td>[58.7182, 90.3105]</td></tr><tr><td>[42.8205, 91.4103]</td><td>[57.2784, 89.9076]</td></tr><tr><td>[40.7692, 88.3333]</td><td>[58.082, 92.0081]</td></tr><tr><td>&hellip;</td><td>&hellip;</td></tr><tr><td>[39.4872, 25.3846]</td><td>[43.7226, 19.0773]</td></tr><tr><td>[91.2821, 41.5385]</td><td>[79.3261, 52.9004]</td></tr><tr><td>[50.0, 95.7692]</td><td>[56.664, 87.9401]</td></tr><tr><td>[47.9487, 95.0]</td><td>[57.8218, 90.6932]</td></tr><tr><td>[44.1026, 92.6923]</td><td>[58.2432, 92.1043]</td></tr></tbody></table></div>"
      ],
      "text/plain": [
       "shape: (142, 2)\n",
       "┌────────────────────┬────────────────────┐\n",
       "│ Dino               ┆ Star               │\n",
       "│ ---                ┆ ---                │\n",
       "│ list[f64]          ┆ list[f64]          │\n",
       "╞════════════════════╪════════════════════╡\n",
       "│ [55.3846, 97.1795] ┆ [58.2136, 91.8819] │\n",
       "│ [51.5385, 96.0256] ┆ [58.1961, 92.215]  │\n",
       "│ [46.1538, 94.4872] ┆ [58.7182, 90.3105] │\n",
       "│ [42.8205, 91.4103] ┆ [57.2784, 89.9076] │\n",
       "│ [40.7692, 88.3333] ┆ [58.082, 92.0081]  │\n",
       "│ …                  ┆ …                  │\n",
       "│ [39.4872, 25.3846] ┆ [43.7226, 19.0773] │\n",
       "│ [91.2821, 41.5385] ┆ [79.3261, 52.9004] │\n",
       "│ [50.0, 95.7692]    ┆ [56.664, 87.9401]  │\n",
       "│ [47.9487, 95.0]    ┆ [57.8218, 90.6932] │\n",
       "│ [44.1026, 92.6923] ┆ [58.2432, 92.1043] │\n",
       "└────────────────────┴────────────────────┘"
      ]
     },
     "execution_count": 17,
     "metadata": {},
     "output_type": "execute_result"
    }
   ],
   "source": [
    "df = pl.read_json(\"/Users/jan-hendrik/projects/blender_csv_import/generate_data/dino_star_vectors.json\")\n",
    "# Explode the columns to transform list[list] into individual rows\n",
    "df = df.explode([\"Dino\", \"Star\"])\n",
    "df"
   ]
  },
  {
   "cell_type": "code",
   "execution_count": 2,
   "metadata": {},
   "outputs": [
    {
     "name": "stdout",
     "output_type": "stream",
     "text": [
      "File saved as 'dino_star_vectors_3d_vector.json'\n"
     ]
    }
   ],
   "source": [
    "import polars as pl\n",
    "import json\n",
    "\n",
    "url_dino = \"https://raw.githubusercontent.com/kolibril13/ipydrop/refs/heads/main/dino.csv\"\n",
    "url_star = \"https://raw.githubusercontent.com/kolibril13/ipydrop/refs/heads/main/star.csv\"\n",
    "\n",
    "df = (\n",
    "    pl.concat([\n",
    "        pl.read_csv(url_dino).select(\n",
    "            pl.col(\"x\").round(4).alias(\"dino_x\"),\n",
    "            pl.col(\"y\").round(4).alias(\"dino_y\")\n",
    "        ),\n",
    "        pl.read_csv(url_star).select(\n",
    "            pl.col(\"x\").round(4).alias(\"star_x\"),\n",
    "            pl.col(\"y\").round(4).alias(\"star_y\")\n",
    "        ),\n",
    "    ], how=\"horizontal\")\n",
    "    .with_columns(\n",
    "        Dino = pl.concat_list([\"dino_x\", \"dino_y\", pl.lit(0).alias(\"dino_z\")]),\n",
    "        Star = pl.concat_list([\"star_x\", \"star_y\", pl.lit(0).alias(\"star_z\")])\n",
    "    )\n",
    "    .select([\"Dino\", \"Star\"])\n",
    ")\n",
    "\n",
    "# Convert the DataFrame to a dictionary of lists\n",
    "data_dict = df.to_dict(as_series=False)\n",
    "\n",
    "# Write the column-oriented data to JSON\n",
    "with open(\"dino_star_vectors_3d_vector.json\", \"w\") as f:\n",
    "    json.dump(data_dict, f, indent=2)\n",
    "\n",
    "print(\"File saved as 'dino_star_vectors_3d_vector.json'\")\n"
   ]
  },
  {
   "cell_type": "code",
   "execution_count": null,
   "metadata": {},
   "outputs": [],
   "source": []
  }
 ],
 "metadata": {
  "kernelspec": {
   "display_name": ".venv",
   "language": "python",
   "name": "python3"
  },
  "language_info": {
   "codemirror_mode": {
    "name": "ipython",
    "version": 3
   },
   "file_extension": ".py",
   "mimetype": "text/x-python",
   "name": "python",
   "nbconvert_exporter": "python",
   "pygments_lexer": "ipython3",
   "version": "3.12.6"
  }
 },
 "nbformat": 4,
 "nbformat_minor": 2
}
