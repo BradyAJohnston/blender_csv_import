{
 "cells": [
  {
   "cell_type": "code",
   "execution_count": 1,
   "metadata": {},
   "outputs": [
    {
     "name": "stdout",
     "output_type": "stream",
     "text": [
      "Generating 1000000 rows of fake polar ice-themed data and writing to fake_polar_ice_data.csv...\n",
      "CSV file fake_polar_ice_data.csv created successfully in 2.97 seconds.\n",
      "\n"
     ]
    }
   ],
   "source": [
    "import csv\n",
    "import random\n",
    "import time\n",
    "\n",
    "# Constants\n",
    "NUM_ROWS = 1_000_000\n",
    "CSV_FILE = \"fake_polar_ice_data.csv\"  # Clear file name\n",
    "\n",
    "# Step 1: Generate the CSV file\n",
    "print(f\"Generating {NUM_ROWS} rows of fake polar ice-themed data and writing to {CSV_FILE}...\")\n",
    "\n",
    "start_time = time.time()\n",
    "with open(CSV_FILE, mode=\"w\", newline=\"\") as file:\n",
    "    writer = csv.writer(file)\n",
    "    writer.writerow([\"x\", \"y\", \"temperature_C\", \"ice_thickness_m\", \"snowfall_rate_mm_h\", \"wind_speed_km_h\"])  # Header row\n",
    "\n",
    "    for _ in range(NUM_ROWS):\n",
    "        x = random.uniform(-10, 10)  # Random float between -10 and 10\n",
    "        y = random.uniform(-10, 10)\n",
    "        temperature_C = random.uniform(-50, 0)\n",
    "        ice_thickness_m = random.uniform(0, 5)\n",
    "        snowfall_rate_mm_h = random.uniform(0, 50)\n",
    "        wind_speed_km_h = random.uniform(0, 100)\n",
    "        writer.writerow([x, y, temperature_C, ice_thickness_m, snowfall_rate_mm_h, wind_speed_km_h])\n",
    "\n",
    "end_time = time.time()\n",
    "\n",
    "csv_generation_time = end_time - start_time\n",
    "print(f\"CSV file {CSV_FILE} created successfully in {csv_generation_time:.2f} seconds.\\n\")"
   ]
  }
 ],
 "metadata": {
  "kernelspec": {
   "display_name": ".venv",
   "language": "python",
   "name": "python3"
  },
  "language_info": {
   "codemirror_mode": {
    "name": "ipython",
    "version": 3
   },
   "file_extension": ".py",
   "mimetype": "text/x-python",
   "name": "python",
   "nbconvert_exporter": "python",
   "pygments_lexer": "ipython3",
   "version": "3.12.6"
  }
 },
 "nbformat": 4,
 "nbformat_minor": 2
}
